{
 "cells": [
  {
   "cell_type": "code",
   "execution_count": 108,
   "id": "c5cc06d3",
   "metadata": {},
   "outputs": [],
   "source": [
    "import numpy as np\n",
    "%matplotlib inline\n",
    "from devito import Grid, Function, TimeFunction, SparseTimeFunction, solve, Eq, Operator\n",
    "from examples.seismic import Model, plot_velocity, TimeAxis, RickerSource, Receiver"
   ]
  },
  {
   "cell_type": "code",
   "execution_count": 109,
   "id": "da850e7a",
   "metadata": {},
   "outputs": [
    {
     "name": "stderr",
     "output_type": "stream",
     "text": [
      "Operator `pad_vp` ran in 0.01 s\n"
     ]
    },
    {
     "name": "stdout",
     "output_type": "stream",
     "text": [
      "{'shape': (11, 11), 'space_order': 2, 'nbl': 0, 'origin': (0.0, 0.0), 'fs': False, 'grid': Grid[extent=(10, 10), shape=(11, 11), dimensions=(x, y)], '_physical_parameters': {'vp'}, 'damp': 1, 'vp': vp(x, y), '_dt': None, '_dt_scale': 1}\n"
     ]
    }
   ],
   "source": [
    "dim = 2\n",
    "shape = (11, 11)\n",
    "extent = (1, 1)\n",
    "origin = (0, 0)\n",
    "# Create a 10 x 10 grid spanning 50m x 50m\n",
    "grid = Grid(shape=shape, extent=extent, origin=origin)\n",
    "# Space / time order\n",
    "so, to = 2, 2\n",
    "# Initial velocity profile\n",
    "v_initial = np.ones(shape)\n",
    "# Number of boundary layers - TODO: revisit this\n",
    "nbl = 0\n",
    "# Instantiate model\n",
    "model = Model(origin, extent, shape, so, v_initial, nbl=nbl)\n",
    "# plot_velocity(model)\n",
    "print(model.__dict__)"
   ]
  },
  {
   "cell_type": "code",
   "execution_count": 110,
   "id": "eda84fa0",
   "metadata": {},
   "outputs": [
    {
     "name": "stdout",
     "output_type": "stream",
     "text": [
      "dt: 0.6124\n"
     ]
    }
   ],
   "source": [
    "dt = model.critical_dt\n",
    "print(\"dt: {:.4f}\".format(dt))"
   ]
  },
  {
   "cell_type": "code",
   "execution_count": 111,
   "id": "f156095c",
   "metadata": {},
   "outputs": [],
   "source": [
    "n_src, n_recv = 1, 5\n",
    "src_coords, recv_coords = np.zeros((n_src, dim)), np.zeros((n_recv, dim))"
   ]
  },
  {
   "cell_type": "code",
   "execution_count": 112,
   "id": "6953ac46",
   "metadata": {},
   "outputs": [
    {
     "name": "stdout",
     "output_type": "stream",
     "text": [
      "[[0.5 5. ]] \n",
      " [[9.75 1.  ]\n",
      " [9.75 3.  ]\n",
      " [9.75 5.  ]\n",
      " [9.75 7.  ]\n",
      " [9.75 9.  ]]\n"
     ]
    }
   ],
   "source": [
    "src_coords[0] = [0.5, 5]\n",
    "\n",
    "for k in range(n_recv):\n",
    "    recv_coords[k] = [9.75, k * 10 / (n_recv) + 1]\n",
    "print(src_coords, \"\\n\", recv_coords)"
   ]
  },
  {
   "cell_type": "code",
   "execution_count": 113,
   "id": "68ca6639",
   "metadata": {},
   "outputs": [
    {
     "data": {
      "text/plain": [
       "<matplotlib.legend.Legend at 0x7f0285f54e48>"
      ]
     },
     "execution_count": 113,
     "metadata": {},
     "output_type": "execute_result"
    },
    {
     "data": {
      "image/png": "[encoded data removed]",
      "text/plain": [
       "<Figure size 432x288 with 2 Axes>"
      ]
     },
     "metadata": {
      "needs_background": "light"
     },
     "output_type": "display_data"
    }
   ],
   "source": [
    "import matplotlib.pyplot as plt\n",
    "\n",
    "\n",
    "plt.plot(src_coords[:, 0], src_coords[:, 1], 'gs', label='source')\n",
    "plt.plot(recv_coords[:, 0], recv_coords[:, 1], 'rs', label='receiver')\n",
    "plt.pcolor(v_initial[:-1, :-1])\n",
    "plt.colorbar(label='velocity')\n",
    "plt.grid()\n",
    "plt.legend()"
   ]
  },
  {
   "cell_type": "code",
   "execution_count": 145,
   "id": "e0d2f2c3",
   "metadata": {},
   "outputs": [],
   "source": [
    "t0 = 0\n",
    "tn = 100\n",
    "time_range = TimeAxis(start=t0, stop=tn, step=dt)\n",
    "f0 = 0.010\n",
    "src = RickerSource(name='src', grid=model.grid, f0=f0,\n",
    "                   npoint=src_coords.shape[0], time_range=time_range)\n",
    "src2 = RickerSource(name='src2', grid=model.grid, f0=f0,\n",
    "                   npoint=src_coords.shape[0], time_range=time_range)"
   ]
  },
  {
   "cell_type": "code",
   "execution_count": 146,
   "id": "5cd357f8",
   "metadata": {},
   "outputs": [],
   "source": [
    "# src.coordinates.data[:, :] = src_coords\n",
    "src2.coordinates.data[:, :] = src_coords\n",
    "# rec = Receiver(name='rec', grid=model.grid, npoint=5, time_range=time_range)\n",
    "rec2 = Receiver(name='rec2', grid=model.grid, npoint=5, time_range=time_range)\n",
    "# rec.coordinates.data[:, :] = recv_coords\n",
    "rec2.coordinates.data[:, :] = recv_coords"
   ]
  },
  {
   "cell_type": "code",
   "execution_count": 147,
   "id": "dd3d0f26",
   "metadata": {},
   "outputs": [],
   "source": [
    "# Define our functions\n",
    "# m is gonna stand for squared slowness\n",
    "m = Function(name='m', grid=model.grid, space_order=so)\n",
    "rho = Function(name='rho', grid=model.grid, space_order=so)\n",
    "u = TimeFunction(name='u', grid=model.grid, space_order=so, time_order=to)\n",
    "# Set rho's data\n",
    "rho.data[:, :] = 1\n",
    "\n",
    "u_gradient_term = (1/rho * (u.dx + u.dy))\n",
    "# pde = model.m * u.dt2 - rho * (u_gradient_term.dx + u_gradient_term.dy)\n",
    "# pde"
   ]
  },
  {
   "cell_type": "code",
   "execution_count": 148,
   "id": "97bee05d",
   "metadata": {},
   "outputs": [
    {
     "data": {
      "text/latex": [
       "$\\displaystyle - \\frac{\\partial^{2}}{\\partial x^{2}} u{\\left(t,x,y \\right)} - \\frac{\\partial^{2}}{\\partial y^{2}} u{\\left(t,x,y \\right)} + \\frac{\\frac{\\partial^{2}}{\\partial t^{2}} u{\\left(t,x,y \\right)}}{\\operatorname{vp}^{2}{\\left(x,y \\right)}}$"
      ],
      "text/plain": [
       "-Derivative(u(t, x, y), (x, 2)) - Derivative(u(t, x, y), (y, 2)) + Derivative(u(t, x, y), (t, 2))/vp(x, y)**2"
      ]
     },
     "execution_count": 148,
     "metadata": {},
     "output_type": "execute_result"
    }
   ],
   "source": [
    "# Instantiate the baseline PDE so that we can compare results when I set rho to be constant\n",
    "baseline_pde = model.m * u.dt2 - u.laplace\n",
    "baseline_pde"
   ]
  },
  {
   "cell_type": "code",
   "execution_count": 149,
   "id": "141f05a6",
   "metadata": {},
   "outputs": [],
   "source": [
    "# stencil = Eq(u.forward, solve(pde, u.forward))\n",
    "# stencil"
   ]
  },
  {
   "cell_type": "code",
   "execution_count": 150,
   "id": "342780b6",
   "metadata": {},
   "outputs": [
    {
     "data": {
      "text/latex": [
       "$\\displaystyle u{\\left(t + dt,x,y \\right)} = dt^{2} \\left(- \\frac{- \\frac{2.0 u{\\left(t,x,y \\right)}}{dt^{2}} + \\frac{u{\\left(t - dt,x,y \\right)}}{dt^{2}}}{\\operatorname{vp}^{2}{\\left(x,y \\right)}} + \\frac{\\partial^{2}}{\\partial x^{2}} u{\\left(t,x,y \\right)} + \\frac{\\partial^{2}}{\\partial y^{2}} u{\\left(t,x,y \\right)}\\right) \\operatorname{vp}^{2}{\\left(x,y \\right)}$"
      ],
      "text/plain": [
       "Eq(u(t + dt, x, y), dt**2*(-(-2.0*u(t, x, y)/dt**2 + u(t - dt, x, y)/dt**2)/vp(x, y)**2 + Derivative(u(t, x, y), (x, 2)) + Derivative(u(t, x, y), (y, 2)))*vp(x, y)**2)"
      ]
     },
     "execution_count": 150,
     "metadata": {},
     "output_type": "execute_result"
    }
   ],
   "source": [
    "baseline_stencil = Eq(u.forward, solve(baseline_pde, u.forward))\n",
    "baseline_stencil"
   ]
  },
  {
   "cell_type": "code",
   "execution_count": 151,
   "id": "b80b6a9d",
   "metadata": {},
   "outputs": [],
   "source": [
    "# src_term = src.inject(field=u.forward, expr=src * dt**2 / model.m)\n",
    "# rec_term = rec.interpolate(expr=u.forward)\n",
    "src2_term = src2.inject(field=u.forward, expr=src * dt**2 / model.m)\n",
    "rec2_term = rec2.interpolate(expr=u.forward)"
   ]
  },
  {
   "cell_type": "code",
   "execution_count": 152,
   "id": "94cc2673",
   "metadata": {},
   "outputs": [],
   "source": [
    "baseline_op = Operator(baseline_stencil + src2_term + rec2_term, subs=model.spacing_map)\n",
    "# op = Operator(stencil + src_term + rec_term, subs=model.spacing_map)"
   ]
  },
  {
   "cell_type": "code",
   "execution_count": 153,
   "id": "70b4c8e1",
   "metadata": {},
   "outputs": [
    {
     "name": "stderr",
     "output_type": "stream",
     "text": [
      "Operator `Kernel` ran in 0.01 s\n"
     ]
    },
    {
     "data": {
      "text/plain": [
       "PerformanceSummary([(PerfKey(name='section0', rank=None),\n",
       "                     PerfEntry(time=5.3999999999999944e-05, gflopss=0.0, gpointss=0.0, oi=0.0, ops=0, itershapes=[])),\n",
       "                    (PerfKey(name='section1', rank=None),\n",
       "                     PerfEntry(time=5.999999999999999e-06, gflopss=0.0, gpointss=0.0, oi=0.0, ops=0, itershapes=[])),\n",
       "                    (PerfKey(name='section2', rank=None),\n",
       "                     PerfEntry(time=1.5000000000000004e-05, gflopss=0.0, gpointss=0.0, oi=0.0, ops=0, itershapes=[]))])"
      ]
     },
     "execution_count": 153,
     "metadata": {},
     "output_type": "execute_result"
    }
   ],
   "source": [
    "baseline_op(time=time_range.num-1, dt=model.critical_dt)"
   ]
  },
  {
   "cell_type": "code",
   "execution_count": 163,
   "id": "c3543b22",
   "metadata": {},
   "outputs": [
    {
     "data": {
      "image/png": "[encoded data removed]",
      "text/plain": [
       "<Figure size 720x360 with 5 Axes>"
      ]
     },
     "metadata": {
      "needs_background": "light"
     },
     "output_type": "display_data"
    }
   ],
   "source": [
    "fig, axs = plt.subplots(1, recv_coords.shape[0], figsize=(10, 5))\n",
    "fig.tight_layout()\n",
    "for i, ax in enumerate(axs):\n",
    "    axs[i].plot(rec2.data[:, i])"
   ]
  },
  {
   "cell_type": "code",
   "execution_count": null,
   "id": "2f916248",
   "metadata": {},
   "outputs": [],
   "source": []
  },
  {
   "cell_type": "code",
   "execution_count": null,
   "id": "58d7c661",
   "metadata": {},
   "outputs": [],
   "source": []
  }
 ],
 "metadata": {
  "kernelspec": {
   "display_name": "Python 3",
   "language": "python",
   "name": "python3"
  },
  "language_info": {
   "codemirror_mode": {
    "name": "ipython",
    "version": 3
   },
   "file_extension": ".py",
   "mimetype": "text/x-python",
   "name": "python",
   "nbconvert_exporter": "python",
   "pygments_lexer": "ipython3",
   "version": "3.6.9"
  }
 },
 "nbformat": 4,
 "nbformat_minor": 5
}
