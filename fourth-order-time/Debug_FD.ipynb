{
 "cells": [
  {
   "cell_type": "code",
   "execution_count": 1,
   "id": "40d1757e",
   "metadata": {},
   "outputs": [],
   "source": [
    "import numpy as np\n",
    "%matplotlib inline\n",
    "from devito import Grid, Function, TimeFunction, SparseTimeFunction\n",
    "from devito import solve, Eq, Operator, ConditionalDimension, Buffer, Constant\n",
    "from examples.seismic import Model, plot_velocity, TimeAxis, RickerSource, Receiver\n",
    "import matplotlib.pyplot as plt"
   ]
  },
  {
   "cell_type": "markdown",
   "id": "2fc42e2d",
   "metadata": {},
   "source": [
    "## Acoustic Wave equation\n",
    "\n",
    "$$ \\frac{1}{v^{2}} \\frac{\\partial^2 u}{\\partial t^2}  = \\rho \\nabla \\frac{1}{\\rho} . \\nabla u + s$$\n",
    "\n",
    "With damping and setting $\\rho=1/b$ , we have \n",
    "$$ \\frac{1}{v^{2}} \\frac{\\partial^2 u}{\\partial t^2} + \\eta \\frac{\\partial u}{\\partial t}  = \\frac{1}{b} \\nabla b . \\nabla u + s$$\n",
    "\n",
    "In one dimension, \n",
    "\n",
    "$$ \\frac{1}{v^{2}} \\frac{\\partial^2 u}{\\partial t^2} + \\eta \\frac{\\partial u}{\\partial t}  = \\frac{1}{b} \\frac{\\partial}{\\partial x} \\left(b . \\frac{\\partial u}{\\partial x}\\right) + s$$\n",
    "\n",
    "$$\n",
    "= \\frac{1}{v^{2}} \\frac{\\partial^2 u}{\\partial t^2} + \\eta \\frac{\\partial u}{\\partial t}  = \\frac{1}{b}\\frac{d b}{d x}\\frac{\\partial u}{\\partial x} + \\frac{\\partial^2 u}{\\partial x^2} + s\n",
    "$$\n",
    "with constant density, this becomes\n",
    "$$\n",
    "\\frac{1}{v^{2}} \\frac{\\partial^2 u}{\\partial t^2} + \\eta \\frac{\\partial u}{\\partial t}  = \\frac{\\partial^2 u}{\\partial x^2} + s\n",
    "$$\n",
    "\n",
    "With 4th order approximation, \n",
    "\n",
    "$$\n",
    "\\frac{1}{v^{2}} \\frac{\\partial^2 u}{\\partial t^2} + \\eta \\frac{\\partial u}{\\partial t} = \\frac{1}{b} \\frac{\\partial}{\\partial x} \\left(b . \\frac{\\partial u}{\\partial x}\\right) + \\frac{\\delta t^2}{12} \\frac{1}{b} \\frac{\\partial }{\\partial x} \\left(b \\frac{\\partial }{\\partial x} \\left( \\frac{v^2}{b} \\frac{\\partial }{\\partial x} b \\frac{\\partial u}{\\partial x} \\right) \\right) + s\n",
    "$$"
   ]
  },
  {
   "cell_type": "code",
   "execution_count": 2,
   "id": "af69a8e9",
   "metadata": {},
   "outputs": [
    {
     "name": "stderr",
     "output_type": "stream",
     "text": [
      "Operator `initdamp` ran in 0.01 s\n",
      "Operator `pad_vp` ran in 0.01 s\n",
      "Operator `pad_b` ran in 0.01 s\n"
     ]
    },
    {
     "name": "stdout",
     "output_type": "stream",
     "text": [
      "28.87\n"
     ]
    },
    {
     "data": {
      "text/latex": [
       "$\\displaystyle \\operatorname{damp}{\\left(x \\right)} \\frac{\\partial}{\\partial t} u{\\left(t,x \\right)} - \\frac{\\partial^{2}}{\\partial x^{2}} u{\\left(t,x \\right)} + \\frac{\\frac{\\partial^{2}}{\\partial t^{2}} u{\\left(t,x \\right)}}{\\operatorname{vp}^{2}{\\left(x \\right)}}$"
      ],
      "text/plain": [
       "damp(x)*Derivative(u(t, x), t) - Derivative(u(t, x), (x, 2)) + Derivative(u(t, x), (t, 2))/vp(x)**2"
      ]
     },
     "execution_count": 2,
     "metadata": {},
     "output_type": "execute_result"
    }
   ],
   "source": [
    "dim = 1\n",
    "shape = (201, )\n",
    "spacing = (50, )\n",
    "\n",
    "so, to = 2, 2\n",
    "v_water = 1.500\n",
    "v_rock = 2.000 # Could be upto 4.000 (salt closer to 5.000)\n",
    "nbl = 10 # Number of boundary layers\n",
    "\n",
    "origin = (0, )\n",
    "xmax = (shape[0]-1 + 2*nbl) * spacing[0]\n",
    "comp_xmax = (shape[0]-1) * spacing[0]\n",
    "n_src, n_recv = 1, 1\n",
    "src_coords = np.array((0.2 * comp_xmax, ))\n",
    "recv_coords = np.array((0.8 * comp_xmax, ))\n",
    "\n",
    "v_initial = np.ones(shape) * v_water\n",
    "b_initial = np.ones(shape)\n",
    "model = Model(origin, spacing, shape, so, v_initial, nbl=nbl, bcs='damp', b=b_initial)\n",
    "dt = model.critical_dt\n",
    "print(dt)\n",
    "\n",
    "s = Constant(name='s')\n",
    "s.data = model.critical_dt\n",
    "t0 = 0\n",
    "tn = 1e4\n",
    "time_range = TimeAxis(start=t0, stop=tn, step=s.data)\n",
    "f0 = 0.001\n",
    "\n",
    "src = RickerSource(name='src', grid=model.grid, f0=f0,\n",
    "                   npoint=n_src, time_range=time_range)\n",
    "src.coordinates.data[:] = src_coords\n",
    "\n",
    "rec = Receiver(name='rec', grid=model.grid, npoint=n_recv, time_range=time_range)\n",
    "rec.coordinates.data[:] = recv_coords\n",
    "u = TimeFunction(name='u', grid=model.grid, space_order=so, time_order=to, save=Buffer(time_range.num))\n",
    "\n",
    "t = model.grid.time_dim\n",
    "x = model.grid.dimensions\n",
    "\n",
    "pde = model.m * u.dt2 + model.damp * u.dt - u.dx2\n",
    "pde"
   ]
  },
  {
   "cell_type": "code",
   "execution_count": 3,
   "id": "be749f15",
   "metadata": {},
   "outputs": [
    {
     "data": {
      "text/latex": [
       "$\\displaystyle \\operatorname{damp}{\\left(x \\right)} \\frac{\\partial}{\\partial t} u{\\left(t,x \\right)} + \\frac{\\frac{\\partial^{2}}{\\partial t^{2}} u{\\left(t,x \\right)}}{\\operatorname{vp}^{2}{\\left(x \\right)}} - \\frac{\\frac{\\partial}{\\partial x} b{\\left(x \\right)} \\frac{\\partial}{\\partial x} u{\\left(t,x \\right)}}{b{\\left(x \\right)}}$"
      ],
      "text/plain": [
       "damp(x)*Derivative(u(t, x), t) + Derivative(u(t, x), (t, 2))/vp(x)**2 - Derivative(b(x)*Derivative(u(t, x), x), x)/b(x)"
      ]
     },
     "execution_count": 3,
     "metadata": {},
     "output_type": "execute_result"
    }
   ],
   "source": [
    "buoyant_pde = model.m * u.dt2 + model.damp * u.dt - 1/model.b * (model.b * u.dxc).dxc\n",
    "buoyant_pde"
   ]
  },
  {
   "cell_type": "code",
   "execution_count": 4,
   "id": "b6fa325b",
   "metadata": {},
   "outputs": [
    {
     "data": {
      "text/latex": [
       "$\\displaystyle u{\\left(t + dt,x \\right)} = \\frac{- \\frac{- \\frac{2.0 u{\\left(t,x \\right)}}{dt^{2}} + \\frac{u{\\left(t - dt,x \\right)}}{dt^{2}}}{\\operatorname{vp}^{2}{\\left(x \\right)}} + \\frac{\\frac{\\partial}{\\partial x} b{\\left(x \\right)} \\frac{\\partial}{\\partial x} u{\\left(t,x \\right)}}{b{\\left(x \\right)}} + \\frac{\\operatorname{damp}{\\left(x \\right)} u{\\left(t,x \\right)}}{dt}}{\\frac{\\operatorname{damp}{\\left(x \\right)}}{dt} + \\frac{1}{dt^{2} \\operatorname{vp}^{2}{\\left(x \\right)}}}$"
      ],
      "text/plain": [
       "Eq(u(t + dt, x), (-(-2.0*u(t, x)/dt**2 + u(t - dt, x)/dt**2)/vp(x)**2 + Derivative(b(x)*Derivative(u(t, x), x), x)/b(x) + damp(x)*u(t, x)/dt)/(damp(x)/dt + 1/(dt**2*vp(x)**2)))"
      ]
     },
     "execution_count": 4,
     "metadata": {},
     "output_type": "execute_result"
    }
   ],
   "source": [
    "stencil = Eq(u.forward, solve(pde, u.forward))\n",
    "src_term = src.inject(field=u.forward, expr=src * s**2 / model.m)\n",
    "rec_term = rec.interpolate(expr=u.forward)\n",
    "stencil2 = Eq(u.forward, solve(buoyant_pde, u.forward))\n",
    "stencil2"
   ]
  },
  {
   "cell_type": "code",
   "execution_count": 72,
   "id": "0fcd0569",
   "metadata": {},
   "outputs": [],
   "source": [
    "# op1 = Operator(stencil + src_term + rec_term)\n",
    "op2 = Operator(stencil2 + src_term + rec_term)"
   ]
  },
  {
   "cell_type": "code",
   "execution_count": 73,
   "id": "efe7bc52",
   "metadata": {},
   "outputs": [],
   "source": [
    "# for ci in op1.cinterface():\n",
    "#     print(ci)"
   ]
  },
  {
   "cell_type": "code",
   "execution_count": 74,
   "id": "2c69576b",
   "metadata": {},
   "outputs": [
    {
     "name": "stdout",
     "output_type": "stream",
     "text": [
      "#define _POSIX_C_SOURCE 200809L\n",
      "#define START_TIMER(S) struct timeval start_ ## S , end_ ## S ; gettimeofday(&start_ ## S , NULL);\n",
      "#define STOP_TIMER(S,T) gettimeofday(&end_ ## S, NULL); T->S += (double)(end_ ## S .tv_sec-start_ ## S.tv_sec)+(double)(end_ ## S .tv_usec-start_ ## S .tv_usec)/1000000;\n",
      "\n",
      "#include \"stdlib.h\"\n",
      "#include \"math.h\"\n",
      "#include \"sys/time.h\"\n",
      "#include \"xmmintrin.h\"\n",
      "#include \"pmmintrin.h\"\n",
      "\n",
      "struct dataobj\n",
      "{\n",
      "  void *restrict data;\n",
      "  unsigned long * size;\n",
      "  unsigned long * npsize;\n",
      "  unsigned long * dsize;\n",
      "  int * hsize;\n",
      "  int * hofs;\n",
      "  int * oofs;\n",
      "} ;\n",
      "\n",
      "struct profiler\n",
      "{\n",
      "  double section0;\n",
      "  double section1;\n",
      "  double section2;\n",
      "} ;\n",
      "\n",
      "\n",
      "int Kernel(struct dataobj *restrict b_vec, struct dataobj *restrict damp_vec, struct dataobj *restrict rec_vec, struct dataobj *restrict rec_coords_vec, const float s, struct dataobj *restrict src_vec, struct dataobj *restrict src_coords_vec, struct dataobj *restrict u_vec, struct dataobj *restrict vp_vec, const int x_M, const int x_m, const float dt, const float h_x, const float o_x, const int p_rec_M, const int p_rec_m, const int p_src_M, const int p_src_m, const int time_M, const int time_m, struct profiler * timers)\n",
      "{\n",
      "  float (*restrict b) __attribute__ ((aligned (64))) = (float (*)) b_vec->data;\n",
      "  float (*restrict damp) __attribute__ ((aligned (64))) = (float (*)) damp_vec->data;\n",
      "  float (*restrict rec)[rec_vec->size[1]] __attribute__ ((aligned (64))) = (float (*)[rec_vec->size[1]]) rec_vec->data;\n",
      "  float (*restrict rec_coords)[rec_coords_vec->size[1]] __attribute__ ((aligned (64))) = (float (*)[rec_coords_vec->size[1]]) rec_coords_vec->data;\n",
      "  float (*restrict src)[src_vec->size[1]] __attribute__ ((aligned (64))) = (float (*)[src_vec->size[1]]) src_vec->data;\n",
      "  float (*restrict src_coords)[src_coords_vec->size[1]] __attribute__ ((aligned (64))) = (float (*)[src_coords_vec->size[1]]) src_coords_vec->data;\n",
      "  float (*restrict u)[u_vec->size[1]] __attribute__ ((aligned (64))) = (float (*)[u_vec->size[1]]) u_vec->data;\n",
      "  float (*restrict vp) __attribute__ ((aligned (64))) = (float (*)) vp_vec->data;\n",
      "\n",
      "  /* Flush denormal numbers to zero in hardware */\n",
      "  _MM_SET_DENORMALS_ZERO_MODE(_MM_DENORMALS_ZERO_ON);\n",
      "  _MM_SET_FLUSH_ZERO_MODE(_MM_FLUSH_ZERO_ON);\n",
      "\n",
      "  float r2 = 1.0F/h_x;\n",
      "  float r3 = 1.0F/(dt*dt);\n",
      "  float r4 = 1.0F/dt;\n",
      "\n",
      "  for (int time = time_m, t0 = (time)%(348), t1 = (time + 347)%(348), t2 = (time + 1)%(348); time <= time_M; time += 1, t0 = (time)%(348), t1 = (time + 347)%(348), t2 = (time + 1)%(348))\n",
      "  {\n",
      "    /* Begin section0 */\n",
      "    START_TIMER(section0)\n",
      "    for (int x = x_m; x <= x_M; x += 1)\n",
      "    {\n",
      "      float r6 = r2*r2;\n",
      "      float r5 = 1.0F/(vp[x + 2]*vp[x + 2]);\n",
      "      u[t2][x + 2] = (r4*damp[x + 1]*u[t0][x + 2] + r5*(-r3*(-2.0F*u[t0][x + 2]) - r3*u[t1][x + 2]) + (2.5e-1F*(-r6*(-u[t0][x] + u[t0][x + 2])*b[x + 1] + r6*(-u[t0][x + 2] + u[t0][x + 4])*b[x + 3]))/b[x + 2])/(r3*r5 + r4*damp[x + 1]);\n",
      "    }\n",
      "    STOP_TIMER(section0,timers)\n",
      "    /* End section0 */\n",
      "\n",
      "    /* Begin section1 */\n",
      "    START_TIMER(section1)\n",
      "    for (int p_src = p_src_m; p_src <= p_src_M; p_src += 1)\n",
      "    {\n",
      "      float posx = -o_x + src_coords[p_src][0];\n",
      "      int ii_src_0 = (int)(floor(posx/h_x));\n",
      "      int ii_src_1 = 1 + (int)(floor(posx/h_x));\n",
      "      float px = (float)(-h_x*(int)(floor(posx/h_x)) + posx);\n",
      "      if (ii_src_0 >= x_m - 1 && ii_src_0 <= x_M + 1)\n",
      "      {\n",
      "        float r0 = (s*s)*(vp[ii_src_0 + 2]*vp[ii_src_0 + 2])*(1 - px/h_x)*src[time][p_src];\n",
      "        u[t2][ii_src_0 + 2] += r0;\n",
      "      }\n",
      "      if (ii_src_1 >= x_m - 1 && ii_src_1 <= x_M + 1)\n",
      "      {\n",
      "        float r1 = px*(s*s)*(vp[ii_src_1 + 2]*vp[ii_src_1 + 2])*src[time][p_src]/h_x;\n",
      "        u[t2][ii_src_1 + 2] += r1;\n",
      "      }\n",
      "    }\n",
      "    STOP_TIMER(section1,timers)\n",
      "    /* End section1 */\n",
      "\n",
      "    /* Begin section2 */\n",
      "    START_TIMER(section2)\n",
      "    for (int p_rec = p_rec_m; p_rec <= p_rec_M; p_rec += 1)\n",
      "    {\n",
      "      float posx = -o_x + rec_coords[p_rec][0];\n",
      "      int ii_rec_0 = (int)(floor(posx/h_x));\n",
      "      int ii_rec_1 = 1 + (int)(floor(posx/h_x));\n",
      "      float px = (float)(-h_x*(int)(floor(posx/h_x)) + posx);\n",
      "      float sum = 0.0F;\n",
      "      if (ii_rec_0 >= x_m - 1 && ii_rec_0 <= x_M + 1)\n",
      "      {\n",
      "        sum += (1 - px/h_x)*u[t2][ii_rec_0 + 2];\n",
      "      }\n",
      "      if (ii_rec_1 >= x_m - 1 && ii_rec_1 <= x_M + 1)\n",
      "      {\n",
      "        sum += px*u[t2][ii_rec_1 + 2]/h_x;\n",
      "      }\n",
      "      rec[time][p_rec] = sum;\n",
      "    }\n",
      "    STOP_TIMER(section2,timers)\n",
      "    /* End section2 */\n",
      "  }\n",
      "\n",
      "  return 0;\n",
      "}\n",
      "\n"
     ]
    }
   ],
   "source": [
    "print(op2.ccode)"
   ]
  },
  {
   "cell_type": "markdown",
   "id": "367407a4",
   "metadata": {},
   "source": [
    "$$\n",
    "\\frac{1}{v^{2}} \\frac{\\partial^2 u}{\\partial t^2} + \\eta \\frac{\\partial u}{\\partial t} = \\frac{1}{b} \\frac{\\partial}{\\partial x} \\left(b . \\frac{\\partial u}{\\partial x}\\right) + \\frac{\\delta t^2}{12} \\frac{1}{b} \\frac{\\partial }{\\partial x} \\left(b \\frac{\\partial }{\\partial x} \\left( \\frac{v^2}{b} \\frac{\\partial }{\\partial x} b \\frac{\\partial u}{\\partial x} \\right) \\right) + s\n",
    "$$"
   ]
  },
  {
   "cell_type": "code",
   "execution_count": 12,
   "id": "325fdbec",
   "metadata": {},
   "outputs": [
    {
     "data": {
      "text/latex": [
       "$\\displaystyle \\operatorname{damp}{\\left(x \\right)} \\frac{\\partial}{\\partial t} u{\\left(t,x \\right)} - 0.5 \\frac{d}{d x} b{\\left(x \\right)} \\frac{\\partial}{\\partial x} u{\\left(t,x \\right)} - 0.5 \\frac{d}{d x} b{\\left(x \\right)} \\frac{\\partial}{\\partial x} u{\\left(t,x \\right)} + \\frac{\\frac{\\partial^{2}}{\\partial t^{2}} u{\\left(t,x \\right)}}{\\operatorname{vp}^{2}{\\left(x \\right)}}$"
      ],
      "text/plain": [
       "damp(x)*Derivative(u(t, x), t) - 0.5*Derivative(b(x), x)*Derivative(u(t, x), x) - 0.5*Derivative(b(x), x)*Derivative(u(t, x), x) + Derivative(u(t, x), (t, 2))/vp(x)**2"
      ]
     },
     "execution_count": 12,
     "metadata": {},
     "output_type": "execute_result"
    }
   ],
   "source": [
    "pde = model.m * u.dt2 - 0.5*(u.dxr * model.b.dxr + u.dxl * model.b.dxl)\n",
    "pde"
   ]
  },
  {
   "cell_type": "code",
   "execution_count": 13,
   "id": "a350a927",
   "metadata": {},
   "outputs": [
    {
     "data": {
      "text/latex": [
       "$\\displaystyle u{\\left(t + dt,x \\right)} = \\frac{- \\frac{- \\frac{2.0 u{\\left(t,x \\right)}}{dt^{2}} + \\frac{u{\\left(t - dt,x \\right)}}{dt^{2}}}{\\operatorname{vp}^{2}{\\left(x \\right)}} + 0.5 \\frac{d}{d x} b{\\left(x \\right)} \\frac{\\partial}{\\partial x} u{\\left(t,x \\right)} + 0.5 \\frac{d}{d x} b{\\left(x \\right)} \\frac{\\partial}{\\partial x} u{\\left(t,x \\right)} + \\frac{\\operatorname{damp}{\\left(x \\right)} u{\\left(t,x \\right)}}{dt}}{\\frac{\\operatorname{damp}{\\left(x \\right)}}{dt} + \\frac{1}{dt^{2} \\operatorname{vp}^{2}{\\left(x \\right)}}}$"
      ],
      "text/plain": [
       "Eq(u(t + dt, x), (-(-2.0*u(t, x)/dt**2 + u(t - dt, x)/dt**2)/vp(x)**2 + 0.5*Derivative(b(x), x)*Derivative(u(t, x), x) + 0.5*Derivative(b(x), x)*Derivative(u(t, x), x) + damp(x)*u(t, x)/dt)/(damp(x)/dt + 1/(dt**2*vp(x)**2)))"
      ]
     },
     "execution_count": 13,
     "metadata": {},
     "output_type": "execute_result"
    }
   ],
   "source": [
    "stencil3 = Eq(u.forward, solve(pde, u.forward))\n",
    "stencil3"
   ]
  },
  {
   "cell_type": "code",
   "execution_count": 14,
   "id": "8e44f612",
   "metadata": {},
   "outputs": [
    {
     "name": "stdout",
     "output_type": "stream",
     "text": [
      "#define _POSIX_C_SOURCE 200809L\n",
      "#define START_TIMER(S) struct timeval start_ ## S , end_ ## S ; gettimeofday(&start_ ## S , NULL);\n",
      "#define STOP_TIMER(S,T) gettimeofday(&end_ ## S, NULL); T->S += (double)(end_ ## S .tv_sec-start_ ## S.tv_sec)+(double)(end_ ## S .tv_usec-start_ ## S .tv_usec)/1000000;\n",
      "\n",
      "#include \"stdlib.h\"\n",
      "#include \"math.h\"\n",
      "#include \"sys/time.h\"\n",
      "#include \"xmmintrin.h\"\n",
      "#include \"pmmintrin.h\"\n",
      "\n",
      "struct dataobj\n",
      "{\n",
      "  void *restrict data;\n",
      "  unsigned long * size;\n",
      "  unsigned long * npsize;\n",
      "  unsigned long * dsize;\n",
      "  int * hsize;\n",
      "  int * hofs;\n",
      "  int * oofs;\n",
      "} ;\n",
      "\n",
      "struct profiler\n",
      "{\n",
      "  double section0;\n",
      "  double section1;\n",
      "  double section2;\n",
      "} ;\n",
      "\n",
      "\n",
      "int Kernel(struct dataobj *restrict b_vec, struct dataobj *restrict damp_vec, struct dataobj *restrict rec_vec, struct dataobj *restrict rec_coords_vec, const float s, struct dataobj *restrict src_vec, struct dataobj *restrict src_coords_vec, struct dataobj *restrict u_vec, struct dataobj *restrict vp_vec, const int x_M, const int x_m, const float dt, const float h_x, const float o_x, const int p_rec_M, const int p_rec_m, const int p_src_M, const int p_src_m, const int time_M, const int time_m, struct profiler * timers)\n",
      "{\n",
      "  float (*restrict b) __attribute__ ((aligned (64))) = (float (*)) b_vec->data;\n",
      "  float (*restrict damp) __attribute__ ((aligned (64))) = (float (*)) damp_vec->data;\n",
      "  float (*restrict rec)[rec_vec->size[1]] __attribute__ ((aligned (64))) = (float (*)[rec_vec->size[1]]) rec_vec->data;\n",
      "  float (*restrict rec_coords)[rec_coords_vec->size[1]] __attribute__ ((aligned (64))) = (float (*)[rec_coords_vec->size[1]]) rec_coords_vec->data;\n",
      "  float (*restrict src)[src_vec->size[1]] __attribute__ ((aligned (64))) = (float (*)[src_vec->size[1]]) src_vec->data;\n",
      "  float (*restrict src_coords)[src_coords_vec->size[1]] __attribute__ ((aligned (64))) = (float (*)[src_coords_vec->size[1]]) src_coords_vec->data;\n",
      "  float (*restrict u)[u_vec->size[1]] __attribute__ ((aligned (64))) = (float (*)[u_vec->size[1]]) u_vec->data;\n",
      "  float (*restrict vp) __attribute__ ((aligned (64))) = (float (*)) vp_vec->data;\n",
      "\n",
      "  /* Flush denormal numbers to zero in hardware */\n",
      "  _MM_SET_DENORMALS_ZERO_MODE(_MM_DENORMALS_ZERO_ON);\n",
      "  _MM_SET_FLUSH_ZERO_MODE(_MM_FLUSH_ZERO_ON);\n",
      "\n",
      "  float r2 = 1.0F/(dt*dt);\n",
      "  float r3 = 1.0F/h_x;\n",
      "  float r4 = 1.0F/dt;\n",
      "\n",
      "  for (int time = time_m, t0 = (time)%(348), t1 = (time + 347)%(348), t2 = (time + 1)%(348); time <= time_M; time += 1, t0 = (time)%(348), t1 = (time + 347)%(348), t2 = (time + 1)%(348))\n",
      "  {\n",
      "    /* Begin section0 */\n",
      "    START_TIMER(section0)\n",
      "    for (int x = x_m; x <= x_M; x += 1)\n",
      "    {\n",
      "      float r5 = 1.0F/(vp[x + 2]*vp[x + 2]);\n",
      "      u[t2][x + 2] = ((r3*r3)*(5.0e-1F*((5.0e-1F*b[x] - 2.0F*b[x + 1] + 1.5F*b[x + 2])*(5.0e-1F*u[t0][x] - 2.0F*u[t0][x + 1] + 1.5F*u[t0][x + 2]) + (-1.5F*b[x + 2] + 2.0F*b[x + 3] - 5.0e-1F*b[x + 4])*(-1.5F*u[t0][x + 2] + 2.0F*u[t0][x + 3] - 5.0e-1F*u[t0][x + 4]))) + r4*damp[x + 1]*u[t0][x + 2] + r5*(-r2*(-2.0F*u[t0][x + 2]) - r2*u[t1][x + 2]))/(r2*r5 + r4*damp[x + 1]);\n",
      "    }\n",
      "    STOP_TIMER(section0,timers)\n",
      "    /* End section0 */\n",
      "\n",
      "    /* Begin section1 */\n",
      "    START_TIMER(section1)\n",
      "    for (int p_src = p_src_m; p_src <= p_src_M; p_src += 1)\n",
      "    {\n",
      "      float posx = -o_x + src_coords[p_src][0];\n",
      "      int ii_src_0 = (int)(floor(posx/h_x));\n",
      "      int ii_src_1 = 1 + (int)(floor(posx/h_x));\n",
      "      float px = (float)(-h_x*(int)(floor(posx/h_x)) + posx);\n",
      "      if (ii_src_0 >= x_m - 1 && ii_src_0 <= x_M + 1)\n",
      "      {\n",
      "        float r0 = (s*s)*(vp[ii_src_0 + 2]*vp[ii_src_0 + 2])*(1 - px/h_x)*src[time][p_src];\n",
      "        u[t2][ii_src_0 + 2] += r0;\n",
      "      }\n",
      "      if (ii_src_1 >= x_m - 1 && ii_src_1 <= x_M + 1)\n",
      "      {\n",
      "        float r1 = px*(s*s)*(vp[ii_src_1 + 2]*vp[ii_src_1 + 2])*src[time][p_src]/h_x;\n",
      "        u[t2][ii_src_1 + 2] += r1;\n",
      "      }\n",
      "    }\n",
      "    STOP_TIMER(section1,timers)\n",
      "    /* End section1 */\n",
      "\n",
      "    /* Begin section2 */\n",
      "    START_TIMER(section2)\n",
      "    for (int p_rec = p_rec_m; p_rec <= p_rec_M; p_rec += 1)\n",
      "    {\n",
      "      float posx = -o_x + rec_coords[p_rec][0];\n",
      "      int ii_rec_0 = (int)(floor(posx/h_x));\n",
      "      int ii_rec_1 = 1 + (int)(floor(posx/h_x));\n",
      "      float px = (float)(-h_x*(int)(floor(posx/h_x)) + posx);\n",
      "      float sum = 0.0F;\n",
      "      if (ii_rec_0 >= x_m - 1 && ii_rec_0 <= x_M + 1)\n",
      "      {\n",
      "        sum += (1 - px/h_x)*u[t2][ii_rec_0 + 2];\n",
      "      }\n",
      "      if (ii_rec_1 >= x_m - 1 && ii_rec_1 <= x_M + 1)\n",
      "      {\n",
      "        sum += px*u[t2][ii_rec_1 + 2]/h_x;\n",
      "      }\n",
      "      rec[time][p_rec] = sum;\n",
      "    }\n",
      "    STOP_TIMER(section2,timers)\n",
      "    /* End section2 */\n",
      "  }\n",
      "\n",
      "  return 0;\n",
      "}\n",
      "\n"
     ]
    }
   ],
   "source": [
    "op3 = Operator(stencil3 + src_term + rec_term)\n",
    "print(op3.ccode)"
   ]
  },
  {
   "cell_type": "markdown",
   "id": "f27474ae",
   "metadata": {},
   "source": [
    "$$\n",
    "\\frac{1}{v^{2}} \\frac{\\partial^2 u}{\\partial t^2} + \\eta \\frac{\\partial u}{\\partial t} = \\frac{1}{b} \\frac{\\partial}{\\partial x} \\left(b . \\frac{\\partial u}{\\partial x}\\right) + \\frac{\\delta t^2}{12} \\frac{1}{b} \\frac{\\partial }{\\partial x} \\left(b \\frac{\\partial }{\\partial x} \\left( \\frac{v^2}{b} \\frac{\\partial }{\\partial x} b \\frac{\\partial u}{\\partial x} \\right) \\right) + s\n",
    "$$"
   ]
  },
  {
   "cell_type": "code",
   "execution_count": 52,
   "id": "2f79f24b",
   "metadata": {},
   "outputs": [
    {
     "data": {
      "text/latex": [
       "$\\displaystyle \\frac{s^{2} \\frac{\\partial}{\\partial x} b{\\left(x \\right)} \\frac{\\partial}{\\partial x} \\frac{\\operatorname{vp}^{2}{\\left(x \\right)} \\frac{\\partial}{\\partial x} b{\\left(x \\right)} \\frac{\\partial}{\\partial x} u{\\left(t,x \\right)}}{b{\\left(x \\right)}}}{12 b{\\left(x \\right)}} + \\operatorname{damp}{\\left(x \\right)} \\frac{\\partial}{\\partial t} u{\\left(t,x \\right)} + \\frac{\\frac{\\partial^{2}}{\\partial t^{2}} u{\\left(t,x \\right)}}{\\operatorname{vp}^{2}{\\left(x \\right)}} - \\frac{\\frac{\\partial}{\\partial x} b{\\left(x \\right)} \\frac{\\partial}{\\partial x} u{\\left(t,x \\right)}}{b{\\left(x \\right)}}$"
      ],
      "text/plain": [
       "s**2*Derivative(b(x)*Derivative(vp(x)**2*Derivative(b(x)*Derivative(u(t, x), x), x)/b(x), x), x)/(12*b(x)) + damp(x)*Derivative(u(t, x), t) + Derivative(u(t, x), (t, 2))/vp(x)**2 - Derivative(b(x)*Derivative(u(t, x), x), x)/b(x)"
      ]
     },
     "execution_count": 52,
     "metadata": {},
     "output_type": "execute_result"
    }
   ],
   "source": [
    "s = Constant(name='s')\n",
    "s.data = model.critical_dt\n",
    "fo_pde = model.m * u.dt2 + model.damp*u.dt - 1/model.b * (model.b * u.dxc).dxc + \\\n",
    "s**2 / 12 * 1/model.b * (model.b * (1/model.m * 1/model.b * (model.b * u.dxc).dxc).dxc).dxc\n",
    "fo_pde"
   ]
  },
  {
   "cell_type": "code",
   "execution_count": 53,
   "id": "c89419ff",
   "metadata": {},
   "outputs": [
    {
     "data": {
      "text/latex": [
       "$\\displaystyle u{\\left(t + dt,x \\right)} = \\frac{- \\frac{s^{2} \\frac{\\partial}{\\partial x} b{\\left(x \\right)} \\frac{\\partial}{\\partial x} \\frac{\\operatorname{vp}^{2}{\\left(x \\right)} \\frac{\\partial}{\\partial x} b{\\left(x \\right)} \\frac{\\partial}{\\partial x} u{\\left(t,x \\right)}}{b{\\left(x \\right)}}}{12 b{\\left(x \\right)}} - \\frac{- \\frac{2.0 u{\\left(t,x \\right)}}{dt^{2}} + \\frac{u{\\left(t - dt,x \\right)}}{dt^{2}}}{\\operatorname{vp}^{2}{\\left(x \\right)}} + \\frac{\\frac{\\partial}{\\partial x} b{\\left(x \\right)} \\frac{\\partial}{\\partial x} u{\\left(t,x \\right)}}{b{\\left(x \\right)}} + \\frac{\\operatorname{damp}{\\left(x \\right)} u{\\left(t,x \\right)}}{dt}}{\\frac{\\operatorname{damp}{\\left(x \\right)}}{dt} + \\frac{1}{dt^{2} \\operatorname{vp}^{2}{\\left(x \\right)}}}$"
      ],
      "text/plain": [
       "Eq(u(t + dt, x), (-s**2*Derivative(b(x)*Derivative(vp(x)**2*Derivative(b(x)*Derivative(u(t, x), x), x)/b(x), x), x)/(12*b(x)) - (-2.0*u(t, x)/dt**2 + u(t - dt, x)/dt**2)/vp(x)**2 + Derivative(b(x)*Derivative(u(t, x), x), x)/b(x) + damp(x)*u(t, x)/dt)/(damp(x)/dt + 1/(dt**2*vp(x)**2)))"
      ]
     },
     "execution_count": 53,
     "metadata": {},
     "output_type": "execute_result"
    }
   ],
   "source": [
    "stencil4 = Eq(u.forward, solve(fo_pde, u.forward))\n",
    "stencil4"
   ]
  },
  {
   "cell_type": "code",
   "execution_count": 51,
   "id": "9a803cc2",
   "metadata": {},
   "outputs": [
    {
     "name": "stdout",
     "output_type": "stream",
     "text": [
      "#define _POSIX_C_SOURCE 200809L\n",
      "#define START_TIMER(S) struct timeval start_ ## S , end_ ## S ; gettimeofday(&start_ ## S , NULL);\n",
      "#define STOP_TIMER(S,T) gettimeofday(&end_ ## S, NULL); T->S += (double)(end_ ## S .tv_sec-start_ ## S.tv_sec)+(double)(end_ ## S .tv_usec-start_ ## S .tv_usec)/1000000;\n",
      "\n",
      "#include \"stdlib.h\"\n",
      "#include \"math.h\"\n",
      "#include \"sys/time.h\"\n",
      "#include \"xmmintrin.h\"\n",
      "#include \"pmmintrin.h\"\n",
      "\n",
      "struct dataobj\n",
      "{\n",
      "  void *restrict data;\n",
      "  unsigned long * size;\n",
      "  unsigned long * npsize;\n",
      "  unsigned long * dsize;\n",
      "  int * hsize;\n",
      "  int * hofs;\n",
      "  int * oofs;\n",
      "} ;\n",
      "\n",
      "struct profiler\n",
      "{\n",
      "  double section0;\n",
      "  double section1;\n",
      "  double section2;\n",
      "} ;\n",
      "\n",
      "\n",
      "int Kernel(struct dataobj *restrict b_vec, struct dataobj *restrict damp_vec, struct dataobj *restrict rec_vec, struct dataobj *restrict rec_coords_vec, const float s, const float s, struct dataobj *restrict src_vec, struct dataobj *restrict src_coords_vec, struct dataobj *restrict u_vec, struct dataobj *restrict vp_vec, const int x_M, const int x_m, const float dt, const float h_x, const float o_x, const int p_rec_M, const int p_rec_m, const int p_src_M, const int p_src_m, const int time_M, const int time_m, const int x_size, struct profiler * timers)\n",
      "{\n",
      "  float *r5_vec;\n",
      "  posix_memalign((void**)(&r5_vec),64,(x_size + 1)*sizeof(float));\n",
      "\n",
      "  float (*restrict b) __attribute__ ((aligned (64))) = (float (*)) b_vec->data;\n",
      "  float (*restrict damp) __attribute__ ((aligned (64))) = (float (*)) damp_vec->data;\n",
      "  float (*restrict r5) __attribute__ ((aligned (64))) = (float (*)) r5_vec;\n",
      "  float (*restrict rec)[rec_vec->size[1]] __attribute__ ((aligned (64))) = (float (*)[rec_vec->size[1]]) rec_vec->data;\n",
      "  float (*restrict rec_coords)[rec_coords_vec->size[1]] __attribute__ ((aligned (64))) = (float (*)[rec_coords_vec->size[1]]) rec_coords_vec->data;\n",
      "  float (*restrict src)[src_vec->size[1]] __attribute__ ((aligned (64))) = (float (*)[src_vec->size[1]]) src_vec->data;\n",
      "  float (*restrict src_coords)[src_coords_vec->size[1]] __attribute__ ((aligned (64))) = (float (*)[src_coords_vec->size[1]]) src_coords_vec->data;\n",
      "  float (*restrict u)[u_vec->size[1]] __attribute__ ((aligned (64))) = (float (*)[u_vec->size[1]]) u_vec->data;\n",
      "  float (*restrict vp) __attribute__ ((aligned (64))) = (float (*)) vp_vec->data;\n",
      "\n",
      "  /* Flush denormal numbers to zero in hardware */\n",
      "  _MM_SET_DENORMALS_ZERO_MODE(_MM_DENORMALS_ZERO_ON);\n",
      "  _MM_SET_FLUSH_ZERO_MODE(_MM_FLUSH_ZERO_ON);\n",
      "\n",
      "  float r2 = 1.0F/h_x;\n",
      "  float r3 = 1.0F/(dt*dt);\n",
      "  float r4 = 1.0F/dt;\n",
      "\n",
      "  for (int time = time_m, t0 = (time)%(348), t1 = (time + 347)%(348), t2 = (time + 1)%(348); time <= time_M; time += 1, t0 = (time)%(348), t1 = (time + 347)%(348), t2 = (time + 1)%(348))\n",
      "  {\n",
      "    /* Begin section0 */\n",
      "    START_TIMER(section0)\n",
      "    for (int x = x_m - 1; x <= x_M; x += 1)\n",
      "    {\n",
      "      float r6 = r2*(-u[t0][x + 4]) + r2*u[t0][x + 5];\n",
      "      r5[x + 1] = ((r2*(vp[x + 4]*vp[x + 4])*(r2*(-r6*b[x + 4]) + r2*(r2*(-u[t0][x + 5]) + r2*u[t0][x + 6])*b[x + 5]))/b[x + 4] + (-r2*vp[x + 3]*vp[x + 3]*(r2*r6*b[x + 4] + r2*(-(r2*(-u[t0][x + 3]) + r2*u[t0][x + 4])*b[x + 3])))/b[x + 3])*b[x + 3];\n",
      "    }\n",
      "    for (int x = x_m; x <= x_M; x += 1)\n",
      "    {\n",
      "      float r7 = 1.0F/(vp[x + 2]*vp[x + 2]);\n",
      "      u[t2][x + 2] = (r4*damp[x + 1]*u[t0][x + 2] + r7*(-r3*(-2.0F*u[t0][x + 2]) - r3*u[t1][x + 2]) + (-1.0F/12.0F*s*s*(r2*(-r5[x]) + r2*r5[x + 1]) + r2*(-(r2*(-u[t0][x + 2]) + r2*u[t0][x + 3])*b[x + 2]) + r2*(r2*(-u[t0][x + 3]) + r2*u[t0][x + 4])*b[x + 3])/b[x + 2])/(r3*r7 + r4*damp[x + 1]);\n",
      "    }\n",
      "    STOP_TIMER(section0,timers)\n",
      "    /* End section0 */\n",
      "\n",
      "    /* Begin section1 */\n",
      "    START_TIMER(section1)\n",
      "    for (int p_src = p_src_m; p_src <= p_src_M; p_src += 1)\n",
      "    {\n",
      "      float posx = -o_x + src_coords[p_src][0];\n",
      "      int ii_src_0 = (int)(floor(posx/h_x));\n",
      "      int ii_src_1 = 1 + (int)(floor(posx/h_x));\n",
      "      float px = (float)(-h_x*(int)(floor(posx/h_x)) + posx);\n",
      "      if (ii_src_0 >= x_m - 1 && ii_src_0 <= x_M + 1)\n",
      "      {\n",
      "        float r0 = (s*s)*(vp[ii_src_0 + 2]*vp[ii_src_0 + 2])*(1 - px/h_x)*src[time][p_src];\n",
      "        u[t2][ii_src_0 + 2] += r0;\n",
      "      }\n",
      "      if (ii_src_1 >= x_m - 1 && ii_src_1 <= x_M + 1)\n",
      "      {\n",
      "        float r1 = px*(s*s)*(vp[ii_src_1 + 2]*vp[ii_src_1 + 2])*src[time][p_src]/h_x;\n",
      "        u[t2][ii_src_1 + 2] += r1;\n",
      "      }\n",
      "    }\n",
      "    STOP_TIMER(section1,timers)\n",
      "    /* End section1 */\n",
      "\n",
      "    /* Begin section2 */\n",
      "    START_TIMER(section2)\n",
      "    for (int p_rec = p_rec_m; p_rec <= p_rec_M; p_rec += 1)\n",
      "    {\n",
      "      float posx = -o_x + rec_coords[p_rec][0];\n",
      "      int ii_rec_0 = (int)(floor(posx/h_x));\n",
      "      int ii_rec_1 = 1 + (int)(floor(posx/h_x));\n",
      "      float px = (float)(-h_x*(int)(floor(posx/h_x)) + posx);\n",
      "      float sum = 0.0F;\n",
      "      if (ii_rec_0 >= x_m - 1 && ii_rec_0 <= x_M + 1)\n",
      "      {\n",
      "        sum += (1 - px/h_x)*u[t2][ii_rec_0 + 2];\n",
      "      }\n",
      "      if (ii_rec_1 >= x_m - 1 && ii_rec_1 <= x_M + 1)\n",
      "      {\n",
      "        sum += px*u[t2][ii_rec_1 + 2]/h_x;\n",
      "      }\n",
      "      rec[time][p_rec] = sum;\n",
      "    }\n",
      "    STOP_TIMER(section2,timers)\n",
      "    /* End section2 */\n",
      "  }\n",
      "\n",
      "  free(r5_vec);\n",
      "\n",
      "  return 0;\n",
      "}\n",
      "\n"
     ]
    }
   ],
   "source": [
    "op4 = Operator(stencil4 + src_term + rec_term)\n",
    "print(op4.ccode)"
   ]
  },
  {
   "cell_type": "code",
   "execution_count": null,
   "id": "01bee3a0",
   "metadata": {},
   "outputs": [],
   "source": []
  }
 ],
 "metadata": {
  "kernelspec": {
   "display_name": "Python 3",
   "language": "python",
   "name": "python3"
  },
  "language_info": {
   "codemirror_mode": {
    "name": "ipython",
    "version": 3
   },
   "file_extension": ".py",
   "mimetype": "text/x-python",
   "name": "python",
   "nbconvert_exporter": "python",
   "pygments_lexer": "ipython3",
   "version": "3.6.9"
  }
 },
 "nbformat": 4,
 "nbformat_minor": 5
}
