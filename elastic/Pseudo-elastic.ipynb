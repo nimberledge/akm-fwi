{
 "cells": [
  {
   "cell_type": "markdown",
   "id": "2e8bd54e",
   "metadata": {},
   "source": [
    "## Pseudo-elastic Equation"
   ]
  },
  {
   "cell_type": "code",
   "execution_count": 1,
   "id": "864bb980",
   "metadata": {},
   "outputs": [],
   "source": [
    "import numpy as np\n",
    "import matplotlib.pyplot as plt\n",
    "import scipy.fft as fft\n",
    "%matplotlib inline\n",
    "\n",
    "# Make background for figures white\n",
    "plt.rcParams['figure.facecolor'] = 'white'"
   ]
  },
  {
   "cell_type": "code",
   "execution_count": 44,
   "id": "736586c4",
   "metadata": {},
   "outputs": [],
   "source": [
    "def plot_fn_snapshot(fn, fig=None, axs=None, **kwargs):\n",
    "    if fig is None and axs is None:\n",
    "        fig, axs = plt.subplots(1, 1)\n",
    "        im = axs.imshow(fn, **kwargs)\n",
    "        return fig, axs, im\n",
    "    \n",
    "    im = axs.imshow(fn, **kwargs)\n",
    "    return fig, axs, im"
   ]
  },
  {
   "cell_type": "code",
   "execution_count": 45,
   "id": "fb86fd6a",
   "metadata": {},
   "outputs": [
    {
     "data": {
      "text/plain": [
       "Text(0.5,0.98,'$u$')"
      ]
     },
     "execution_count": 45,
     "metadata": {},
     "output_type": "execute_result"
    },
    {
     "data": {
      "image/png": "[encoded data removed]",
      "text/plain": [
       "<Figure size 432x288 with 2 Axes>"
      ]
     },
     "metadata": {
      "needs_background": "light"
     },
     "output_type": "display_data"
    }
   ],
   "source": [
    "size = (101, 101)\n",
    "u_initial = np.zeros(size)\n",
    "\n",
    "# Set initial condition velocity\n",
    "for i in range(size[0]):\n",
    "    x = i / (size[0] - 1)\n",
    "    for j in range(size[1]):\n",
    "        y = 1 - j / (size[1] - 1)\n",
    "        u_initial[i, j] = x**2 - np.sqrt(y)\n",
    "\n",
    "# fig, axs = plt.subplots(1, 1)\n",
    "fig, axs, im = plot_fn_snapshot(u_initial, cmap='seismic')\n",
    "fig.colorbar(im)\n",
    "plt.suptitle(r\"$u$\")\n",
    "# fig, axs = plt.subplots(1, 2, figsize=(6, 6))\n",
    "# _, _, im0 = plot_fn_snapshot(u_initial, axs=axs[0], cmap='seismic')\n",
    "# _, _, im1 = plot_fn_snapshot(u_initial.T, axs=axs[1], cmap='seismic')\n",
    "# fig.colorbar(im0, ax=axs[0])\n",
    "# fig.colorbar(im1, ax=axs[1])\n",
    "# axs[0].set_title(r\"$u$\")\n",
    "# axs[1].set_title(r\"$u^T$\")\n",
    "# fig.tight_layout(pad=0.5)"
   ]
  },
  {
   "cell_type": "markdown",
   "id": "b253cc1b",
   "metadata": {},
   "source": []
  }
 ],
 "metadata": {
  "kernelspec": {
   "display_name": "Python 3",
   "language": "python",
   "name": "python3"
  },
  "language_info": {
   "codemirror_mode": {
    "name": "ipython",
    "version": 3
   },
   "file_extension": ".py",
   "mimetype": "text/x-python",
   "name": "python",
   "nbconvert_exporter": "python",
   "pygments_lexer": "ipython3",
   "version": "3.6.9"
  }
 },
 "nbformat": 4,
 "nbformat_minor": 5
}
