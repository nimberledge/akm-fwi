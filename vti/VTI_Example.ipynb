{
 "cells": [
  {
   "cell_type": "code",
   "execution_count": 1,
   "id": "d37af774",
   "metadata": {},
   "outputs": [],
   "source": [
    "import numpy as np\n",
    "%matplotlib inline\n",
    "from devito import Grid, Function, TimeFunction, SparseTimeFunction\n",
    "from devito import solve, Eq, Operator, ConditionalDimension, Buffer, Constant\n",
    "from examples.seismic import Model, plot_velocity, TimeAxis, RickerSource, Receiver\n",
    "import matplotlib.pyplot as plt"
   ]
  },
  {
   "cell_type": "markdown",
   "id": "96fc359c",
   "metadata": {},
   "source": [
    "## VTI Wave equation\n",
    "\n",
    "Derivation TBD\n",
    "\n",
    "Tabled for now - we'll revisit."
   ]
  }
 ],
 "metadata": {
  "kernelspec": {
   "display_name": "Python 3",
   "language": "python",
   "name": "python3"
  },
  "language_info": {
   "codemirror_mode": {
    "name": "ipython",
    "version": 3
   },
   "file_extension": ".py",
   "mimetype": "text/x-python",
   "name": "python",
   "nbconvert_exporter": "python",
   "pygments_lexer": "ipython3",
   "version": "3.6.9"
  }
 },
 "nbformat": 4,
 "nbformat_minor": 5
}
