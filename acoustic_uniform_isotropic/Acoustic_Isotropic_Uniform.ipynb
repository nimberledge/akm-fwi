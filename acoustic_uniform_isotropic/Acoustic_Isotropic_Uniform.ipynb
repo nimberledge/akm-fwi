{
 "cells": [
  {
   "cell_type": "markdown",
   "id": "61616f6d",
   "metadata": {},
   "source": [
    "# Acoustic Wave Equation in an isotropic medium with uniform density\n",
    "\n",
    "$$\\frac{1}{c^2} \\frac{\\partial^2 p}{\\partial t^2} + \\nabla . \\nabla p = s$$"
   ]
  },
  {
   "cell_type": "code",
   "execution_count": 1,
   "id": "9415c7e1",
   "metadata": {},
   "outputs": [],
   "source": [
    "import numpy as np\n",
    "%matplotlib inline\n",
    "\n",
    "from devito import Grid, Function, TimeFunction, SparseTimeFunction, solve, Eq, Operator\n",
    "from examples.seismic import Model, plot_velocity, TimeAxis, RickerSource, Receiver, AcquisitionGeometry"
   ]
  },
  {
   "cell_type": "markdown",
   "id": "e655ec07",
   "metadata": {},
   "source": [
    "# Define the domain, and the model\n",
    "\n",
    "Note that nbl=0 because we are not damping the edges of our domain."
   ]
  },
  {
   "cell_type": "code",
   "execution_count": 2,
   "id": "c1deb9d2",
   "metadata": {},
   "outputs": [
    {
     "name": "stderr",
     "output_type": "stream",
     "text": [
      "Operator `pad_vp` ran in 0.01 s\n"
     ]
    },
    {
     "name": "stdout",
     "output_type": "stream",
     "text": [
      "2.5\n",
      "{'shape': (5, 5, 5), 'space_order': 2, 'nbl': 0, 'origin': (0.0, 0.0, 0.0), 'fs': False, 'grid': Grid[extent=(20, 20, 20), shape=(5, 5, 5), dimensions=(x, y, z)], '_physical_parameters': {'vp'}, 'damp': 1, 'vp': vp(x, y, z), '_dt': None, '_dt_scale': 1}\n"
     ]
    }
   ],
   "source": [
    "dim = 3\n",
    "shape = (5, 5, 5)\n",
    "extent = (5, 5, 5)\n",
    "origin = (0, 0, 0)\n",
    "grid = Grid(shape=shape, extent=extent, origin=origin)\n",
    "\n",
    "so = 2 # Space order\n",
    "to = 2 # Time order\n",
    "\n",
    "# Create an initial velocity profile\n",
    "v_initial = np.ones(shape)\n",
    "# v_initial[:, :, 0] = 1.0\n",
    "\n",
    "# Set up the model based on our grid and initial velocity\n",
    "model = Model(origin, extent, shape, so, v_initial, nbl=0)\n",
    "dt = model.critical_dt\n",
    "print(dt)\n",
    "print(model.__dict__)"
   ]
  },
  {
   "cell_type": "code",
   "execution_count": 3,
   "id": "e6958770",
   "metadata": {},
   "outputs": [
    {
     "name": "stdout",
     "output_type": "stream",
     "text": [
      "[[10. 10. 10.]]\n"
     ]
    }
   ],
   "source": [
    "# Set up time-scale\n",
    "t0 = 0\n",
    "tn = 1000\n",
    "time_range = TimeAxis(start=t0, stop=tn, step=dt)\n",
    "\n",
    "# Now set up a source and receivers\n",
    "# We will set up a source at the origin (0, 0, 0), and receivers along the line parametrized by (t, 1, 1)n\n",
    "n_src = 1\n",
    "n_recv = 5\n",
    "src_coords = np.zeros((n_src, dim))\n",
    "recv_coords = np.zeros((n_recv, dim))\n",
    "for i in range(n_recv):\n",
    "    recv_coords[i] = (model.grid.extent[0] * i / (n_recv - 1), model.grid.extent[-2], model.grid.extent[-1])\n",
    "# print(recv_coords)\n",
    "    \n",
    "f0 = 0.010  # Source peak frequency is 10Hz (0.010 kHz)\n",
    "src = RickerSource(name='src', grid=model.grid, f0=f0,\n",
    "                   npoint=1, time_range=time_range)\n",
    "\n",
    "# First, position source centrally in all dimensions, then set depth\n",
    "src.coordinates.data[:, :] = [model.grid.extent[i] / 2 for i in range(dim)]\n",
    "print(src.coordinates.data)\n",
    "\n",
    "rec = Receiver(name='rec', grid=model.grid, npoint=5, time_range=time_range)\n",
    "rec.coordinates.data[:, :] = recv_coords\n",
    "# print(type(rec.data))\n",
    "\n",
    "m = Function(name='m', grid=model.grid, space_order=so)\n",
    "u = TimeFunction(name='u', grid=model.grid, space_order=so, time_order=to)\n",
    "\n",
    "pde = model.m * u.dt2 - u.laplace\n",
    "# pde\n",
    "# print(rec.data)"
   ]
  },
  {
   "cell_type": "code",
   "execution_count": 4,
   "id": "63800342",
   "metadata": {},
   "outputs": [],
   "source": [
    "# For some reason, they create an AcquisitionGeometry object here. Not 100% sure what it does\n",
    "geometry = AcquisitionGeometry(model, rec.coordinates.data, src.coordinates.data, t0, tn, f0=f0, src_type='Ricker')"
   ]
  },
  {
   "cell_type": "code",
   "execution_count": 5,
   "id": "a1f343e4",
   "metadata": {},
   "outputs": [
    {
     "data": {
      "text/latex": [
       "$\\displaystyle u{\\left(t + dt,x,y,z \\right)} = dt^{2} \\left(- \\frac{- \\frac{2.0 u{\\left(t,x,y,z \\right)}}{dt^{2}} + \\frac{u{\\left(t - dt,x,y,z \\right)}}{dt^{2}}}{\\operatorname{vp}^{2}{\\left(x,y,z \\right)}} + \\frac{\\partial^{2}}{\\partial x^{2}} u{\\left(t,x,y,z \\right)} + \\frac{\\partial^{2}}{\\partial y^{2}} u{\\left(t,x,y,z \\right)} + \\frac{\\partial^{2}}{\\partial z^{2}} u{\\left(t,x,y,z \\right)}\\right) \\operatorname{vp}^{2}{\\left(x,y,z \\right)}$"
      ],
      "text/plain": [
       "Eq(u(t + dt, x, y, z), dt**2*(-(-2.0*u(t, x, y, z)/dt**2 + u(t - dt, x, y, z)/dt**2)/vp(x, y, z)**2 + Derivative(u(t, x, y, z), (x, 2)) + Derivative(u(t, x, y, z), (y, 2)) + Derivative(u(t, x, y, z), (z, 2)))*vp(x, y, z)**2)"
      ]
     },
     "execution_count": 5,
     "metadata": {},
     "output_type": "execute_result"
    }
   ],
   "source": [
    "stencil = Eq(u.forward, solve(pde, u.forward))\n",
    "stencil"
   ]
  },
  {
   "cell_type": "code",
   "execution_count": 6,
   "id": "7278ea07",
   "metadata": {},
   "outputs": [],
   "source": [
    "src_term = src.inject(field=u.forward, expr=src * dt**2 / model.m)\n",
    "rec_term = rec.interpolate(expr=u.forward)"
   ]
  },
  {
   "cell_type": "code",
   "execution_count": 7,
   "id": "6beb8e3f",
   "metadata": {},
   "outputs": [],
   "source": [
    "op = Operator(stencil + src_term + rec_term, subs=model.spacing_map)"
   ]
  },
  {
   "cell_type": "code",
   "execution_count": 8,
   "id": "ba43e22d",
   "metadata": {},
   "outputs": [
    {
     "name": "stdout",
     "output_type": "stream",
     "text": [
      "#define _POSIX_C_SOURCE 200809L\n",
      "#define MIN(a,b) (((a) < (b)) ? (a) : (b))\n",
      "#define MAX(a,b) (((a) > (b)) ? (a) : (b))\n",
      "#define START_TIMER(S) struct timeval start_ ## S , end_ ## S ; gettimeofday(&start_ ## S , NULL);\n",
      "#define STOP_TIMER(S,T) gettimeofday(&end_ ## S, NULL); T->S += (double)(end_ ## S .tv_sec-start_ ## S.tv_sec)+(double)(end_ ## S .tv_usec-start_ ## S .tv_usec)/1000000;\n",
      "\n",
      "#include \"stdlib.h\"\n",
      "#include \"math.h\"\n",
      "#include \"sys/time.h\"\n",
      "#include \"xmmintrin.h\"\n",
      "#include \"pmmintrin.h\"\n",
      "\n",
      "struct dataobj\n",
      "{\n",
      "  void *restrict data;\n",
      "  int * size;\n",
      "  int * npsize;\n",
      "  int * dsize;\n",
      "  int * hsize;\n",
      "  int * hofs;\n",
      "  int * oofs;\n",
      "} ;\n",
      "\n",
      "struct profiler\n",
      "{\n",
      "  double section0;\n",
      "  double section1;\n",
      "  double section2;\n",
      "} ;\n",
      "\n",
      "\n",
      "int Kernel(const float dt, const float o_x, const float o_y, const float o_z, struct dataobj *restrict rec_vec, struct dataobj *restrict rec_coords_vec, struct dataobj *restrict src_vec, struct dataobj *restrict src_coords_vec, struct dataobj *restrict u_vec, struct dataobj *restrict vp_vec, const int x_M, const int x_m, const int y_M, const int y_m, const int z_M, const int z_m, const int p_rec_M, const int p_rec_m, const int p_src_M, const int p_src_m, const int time_M, const int time_m, const int x0_blk0_size, const int y0_blk0_size, struct profiler * timers)\n",
      "{\n",
      "  float (*restrict rec)[rec_vec->size[1]] __attribute__ ((aligned (64))) = (float (*)[rec_vec->size[1]]) rec_vec->data;\n",
      "  float (*restrict rec_coords)[rec_coords_vec->size[1]] __attribute__ ((aligned (64))) = (float (*)[rec_coords_vec->size[1]]) rec_coords_vec->data;\n",
      "  float (*restrict src)[src_vec->size[1]] __attribute__ ((aligned (64))) = (float (*)[src_vec->size[1]]) src_vec->data;\n",
      "  float (*restrict src_coords)[src_coords_vec->size[1]] __attribute__ ((aligned (64))) = (float (*)[src_coords_vec->size[1]]) src_coords_vec->data;\n",
      "  float (*restrict u)[u_vec->size[1]][u_vec->size[2]][u_vec->size[3]] __attribute__ ((aligned (64))) = (float (*)[u_vec->size[1]][u_vec->size[2]][u_vec->size[3]]) u_vec->data;\n",
      "  float (*restrict vp)[vp_vec->size[1]][vp_vec->size[2]] __attribute__ ((aligned (64))) = (float (*)[vp_vec->size[1]][vp_vec->size[2]]) vp_vec->data;\n",
      "\n",
      "  /* Flush denormal numbers to zero in hardware */\n",
      "  _MM_SET_DENORMALS_ZERO_MODE(_MM_DENORMALS_ZERO_ON);\n",
      "  _MM_SET_FLUSH_ZERO_MODE(_MM_FLUSH_ZERO_ON);\n",
      "\n",
      "  float r0 = 1.0F/(dt*dt);\n",
      "\n",
      "  for (int time = time_m, t0 = (time)%(3), t1 = (time + 2)%(3), t2 = (time + 1)%(3); time <= time_M; time += 1, t0 = (time)%(3), t1 = (time + 2)%(3), t2 = (time + 1)%(3))\n",
      "  {\n",
      "    /* Begin section0 */\n",
      "    START_TIMER(section0)\n",
      "    for (int x0_blk0 = x_m; x0_blk0 <= x_M; x0_blk0 += x0_blk0_size)\n",
      "    {\n",
      "      for (int y0_blk0 = y_m; y0_blk0 <= y_M; y0_blk0 += y0_blk0_size)\n",
      "      {\n",
      "        for (int x = x0_blk0; x <= MIN(x0_blk0 + x0_blk0_size - 1, x_M); x += 1)\n",
      "        {\n",
      "          for (int y = y0_blk0; y <= MIN(y0_blk0 + y0_blk0_size - 1, y_M); y += 1)\n",
      "          {\n",
      "            #pragma omp simd aligned(u,vp:32)\n",
      "            for (int z = z_m; z <= z_M; z += 1)\n",
      "            {\n",
      "              float r9 = vp[x + 2][y + 2][z + 2]*vp[x + 2][y + 2][z + 2];\n",
      "              u[t2][x + 2][y + 2][z + 2] = r9*(dt*dt)*(4.0e-2F*(u[t0][x + 1][y + 2][z + 2] + u[t0][x + 2][y + 1][z + 2] + u[t0][x + 2][y + 2][z + 1] + u[t0][x + 2][y + 2][z + 3] + u[t0][x + 2][y + 3][z + 2] + u[t0][x + 3][y + 2][z + 2]) - 2.39999995e-1F*u[t0][x + 2][y + 2][z + 2] + (-r0*(-2.0F*u[t0][x + 2][y + 2][z + 2]) - r0*u[t1][x + 2][y + 2][z + 2])/r9);\n",
      "            }\n",
      "          }\n",
      "        }\n",
      "      }\n",
      "    }\n",
      "    STOP_TIMER(section0,timers)\n",
      "    /* End section0 */\n",
      "\n",
      "    /* Begin section1 */\n",
      "    START_TIMER(section1)\n",
      "    for (int p_src = p_src_m; p_src <= p_src_M; p_src += 1)\n",
      "    {\n",
      "      float posx = -o_x + src_coords[p_src][0];\n",
      "      float posy = -o_y + src_coords[p_src][1];\n",
      "      float posz = -o_z + src_coords[p_src][2];\n",
      "      int ii_src_0 = (int)(floor(2.0e-1F*posx));\n",
      "      int ii_src_1 = (int)(floor(2.0e-1F*posy));\n",
      "      int ii_src_2 = (int)(floor(2.0e-1F*posz));\n",
      "      int ii_src_3 = 1 + (int)(floor(2.0e-1F*posz));\n",
      "      int ii_src_4 = 1 + (int)(floor(2.0e-1F*posy));\n",
      "      int ii_src_5 = 1 + (int)(floor(2.0e-1F*posx));\n",
      "      float px = (float)(posx - 5.0F*(int)(floor(2.0e-1F*posx)));\n",
      "      float py = (float)(posy - 5.0F*(int)(floor(2.0e-1F*posy)));\n",
      "      float pz = (float)(posz - 5.0F*(int)(floor(2.0e-1F*posz)));\n",
      "      if (ii_src_0 >= x_m - 1 && ii_src_1 >= y_m - 1 && ii_src_2 >= z_m - 1 && ii_src_0 <= x_M + 1 && ii_src_1 <= y_M + 1 && ii_src_2 <= z_M + 1)\n",
      "      {\n",
      "        float r1 = 6.25F*(vp[ii_src_0 + 2][ii_src_1 + 2][ii_src_2 + 2]*vp[ii_src_0 + 2][ii_src_1 + 2][ii_src_2 + 2])*(-8.0e-3F*px*py*pz + 4.0e-2F*px*py + 4.0e-2F*px*pz - 2.0e-1F*px + 4.0e-2F*py*pz - 2.0e-1F*py - 2.0e-1F*pz + 1)*src[time][p_src];\n",
      "        u[t2][ii_src_0 + 2][ii_src_1 + 2][ii_src_2 + 2] += r1;\n",
      "      }\n",
      "      if (ii_src_0 >= x_m - 1 && ii_src_1 >= y_m - 1 && ii_src_3 >= z_m - 1 && ii_src_0 <= x_M + 1 && ii_src_1 <= y_M + 1 && ii_src_3 <= z_M + 1)\n",
      "      {\n",
      "        float r2 = 6.25F*(vp[ii_src_0 + 2][ii_src_1 + 2][ii_src_3 + 2]*vp[ii_src_0 + 2][ii_src_1 + 2][ii_src_3 + 2])*(8.0e-3F*px*py*pz - 4.0e-2F*px*pz - 4.0e-2F*py*pz + 2.0e-1F*pz)*src[time][p_src];\n",
      "        u[t2][ii_src_0 + 2][ii_src_1 + 2][ii_src_3 + 2] += r2;\n",
      "      }\n",
      "      if (ii_src_0 >= x_m - 1 && ii_src_2 >= z_m - 1 && ii_src_4 >= y_m - 1 && ii_src_0 <= x_M + 1 && ii_src_2 <= z_M + 1 && ii_src_4 <= y_M + 1)\n",
      "      {\n",
      "        float r3 = 6.25F*(vp[ii_src_0 + 2][ii_src_4 + 2][ii_src_2 + 2]*vp[ii_src_0 + 2][ii_src_4 + 2][ii_src_2 + 2])*(8.0e-3F*px*py*pz - 4.0e-2F*px*py - 4.0e-2F*py*pz + 2.0e-1F*py)*src[time][p_src];\n",
      "        u[t2][ii_src_0 + 2][ii_src_4 + 2][ii_src_2 + 2] += r3;\n",
      "      }\n",
      "      if (ii_src_0 >= x_m - 1 && ii_src_3 >= z_m - 1 && ii_src_4 >= y_m - 1 && ii_src_0 <= x_M + 1 && ii_src_3 <= z_M + 1 && ii_src_4 <= y_M + 1)\n",
      "      {\n",
      "        float r4 = 6.25F*(vp[ii_src_0 + 2][ii_src_4 + 2][ii_src_3 + 2]*vp[ii_src_0 + 2][ii_src_4 + 2][ii_src_3 + 2])*(-8.0e-3F*px*py*pz + 4.0e-2F*py*pz)*src[time][p_src];\n",
      "        u[t2][ii_src_0 + 2][ii_src_4 + 2][ii_src_3 + 2] += r4;\n",
      "      }\n",
      "      if (ii_src_1 >= y_m - 1 && ii_src_2 >= z_m - 1 && ii_src_5 >= x_m - 1 && ii_src_1 <= y_M + 1 && ii_src_2 <= z_M + 1 && ii_src_5 <= x_M + 1)\n",
      "      {\n",
      "        float r5 = 6.25F*(vp[ii_src_5 + 2][ii_src_1 + 2][ii_src_2 + 2]*vp[ii_src_5 + 2][ii_src_1 + 2][ii_src_2 + 2])*(8.0e-3F*px*py*pz - 4.0e-2F*px*py - 4.0e-2F*px*pz + 2.0e-1F*px)*src[time][p_src];\n",
      "        u[t2][ii_src_5 + 2][ii_src_1 + 2][ii_src_2 + 2] += r5;\n",
      "      }\n",
      "      if (ii_src_1 >= y_m - 1 && ii_src_3 >= z_m - 1 && ii_src_5 >= x_m - 1 && ii_src_1 <= y_M + 1 && ii_src_3 <= z_M + 1 && ii_src_5 <= x_M + 1)\n",
      "      {\n",
      "        float r6 = 6.25F*(vp[ii_src_5 + 2][ii_src_1 + 2][ii_src_3 + 2]*vp[ii_src_5 + 2][ii_src_1 + 2][ii_src_3 + 2])*(-8.0e-3F*px*py*pz + 4.0e-2F*px*pz)*src[time][p_src];\n",
      "        u[t2][ii_src_5 + 2][ii_src_1 + 2][ii_src_3 + 2] += r6;\n",
      "      }\n",
      "      if (ii_src_2 >= z_m - 1 && ii_src_4 >= y_m - 1 && ii_src_5 >= x_m - 1 && ii_src_2 <= z_M + 1 && ii_src_4 <= y_M + 1 && ii_src_5 <= x_M + 1)\n",
      "      {\n",
      "        float r7 = 6.25F*(vp[ii_src_5 + 2][ii_src_4 + 2][ii_src_2 + 2]*vp[ii_src_5 + 2][ii_src_4 + 2][ii_src_2 + 2])*(-8.0e-3F*px*py*pz + 4.0e-2F*px*py)*src[time][p_src];\n",
      "        u[t2][ii_src_5 + 2][ii_src_4 + 2][ii_src_2 + 2] += r7;\n",
      "      }\n",
      "      if (ii_src_3 >= z_m - 1 && ii_src_4 >= y_m - 1 && ii_src_5 >= x_m - 1 && ii_src_3 <= z_M + 1 && ii_src_4 <= y_M + 1 && ii_src_5 <= x_M + 1)\n",
      "      {\n",
      "        float r8 = 5.00000022351742e-2F*px*py*pz*(vp[ii_src_5 + 2][ii_src_4 + 2][ii_src_3 + 2]*vp[ii_src_5 + 2][ii_src_4 + 2][ii_src_3 + 2])*src[time][p_src];\n",
      "        u[t2][ii_src_5 + 2][ii_src_4 + 2][ii_src_3 + 2] += r8;\n",
      "      }\n",
      "    }\n",
      "    STOP_TIMER(section1,timers)\n",
      "    /* End section1 */\n",
      "\n",
      "    /* Begin section2 */\n",
      "    START_TIMER(section2)\n",
      "    for (int p_rec = p_rec_m; p_rec <= p_rec_M; p_rec += 1)\n",
      "    {\n",
      "      float posx = -o_x + rec_coords[p_rec][0];\n",
      "      float posy = -o_y + rec_coords[p_rec][1];\n",
      "      float posz = -o_z + rec_coords[p_rec][2];\n",
      "      int ii_rec_0 = (int)(floor(2.0e-1F*posx));\n",
      "      int ii_rec_1 = (int)(floor(2.0e-1F*posy));\n",
      "      int ii_rec_2 = (int)(floor(2.0e-1F*posz));\n",
      "      int ii_rec_3 = 1 + (int)(floor(2.0e-1F*posz));\n",
      "      int ii_rec_4 = 1 + (int)(floor(2.0e-1F*posy));\n",
      "      int ii_rec_5 = 1 + (int)(floor(2.0e-1F*posx));\n",
      "      float px = (float)(posx - 5.0F*(int)(floor(2.0e-1F*posx)));\n",
      "      float py = (float)(posy - 5.0F*(int)(floor(2.0e-1F*posy)));\n",
      "      float pz = (float)(posz - 5.0F*(int)(floor(2.0e-1F*posz)));\n",
      "      float sum = 0.0F;\n",
      "      if (ii_rec_0 >= x_m - 1 && ii_rec_1 >= y_m - 1 && ii_rec_2 >= z_m - 1 && ii_rec_0 <= x_M + 1 && ii_rec_1 <= y_M + 1 && ii_rec_2 <= z_M + 1)\n",
      "      {\n",
      "        sum += (-8.0e-3F*px*py*pz + 4.0e-2F*px*py + 4.0e-2F*px*pz - 2.0e-1F*px + 4.0e-2F*py*pz - 2.0e-1F*py - 2.0e-1F*pz + 1)*u[t2][ii_rec_0 + 2][ii_rec_1 + 2][ii_rec_2 + 2];\n",
      "      }\n",
      "      if (ii_rec_0 >= x_m - 1 && ii_rec_1 >= y_m - 1 && ii_rec_3 >= z_m - 1 && ii_rec_0 <= x_M + 1 && ii_rec_1 <= y_M + 1 && ii_rec_3 <= z_M + 1)\n",
      "      {\n",
      "        sum += (8.0e-3F*px*py*pz - 4.0e-2F*px*pz - 4.0e-2F*py*pz + 2.0e-1F*pz)*u[t2][ii_rec_0 + 2][ii_rec_1 + 2][ii_rec_3 + 2];\n",
      "      }\n",
      "      if (ii_rec_0 >= x_m - 1 && ii_rec_2 >= z_m - 1 && ii_rec_4 >= y_m - 1 && ii_rec_0 <= x_M + 1 && ii_rec_2 <= z_M + 1 && ii_rec_4 <= y_M + 1)\n",
      "      {\n",
      "        sum += (8.0e-3F*px*py*pz - 4.0e-2F*px*py - 4.0e-2F*py*pz + 2.0e-1F*py)*u[t2][ii_rec_0 + 2][ii_rec_4 + 2][ii_rec_2 + 2];\n",
      "      }\n",
      "      if (ii_rec_0 >= x_m - 1 && ii_rec_3 >= z_m - 1 && ii_rec_4 >= y_m - 1 && ii_rec_0 <= x_M + 1 && ii_rec_3 <= z_M + 1 && ii_rec_4 <= y_M + 1)\n",
      "      {\n",
      "        sum += (-8.0e-3F*px*py*pz + 4.0e-2F*py*pz)*u[t2][ii_rec_0 + 2][ii_rec_4 + 2][ii_rec_3 + 2];\n",
      "      }\n",
      "      if (ii_rec_1 >= y_m - 1 && ii_rec_2 >= z_m - 1 && ii_rec_5 >= x_m - 1 && ii_rec_1 <= y_M + 1 && ii_rec_2 <= z_M + 1 && ii_rec_5 <= x_M + 1)\n",
      "      {\n",
      "        sum += (8.0e-3F*px*py*pz - 4.0e-2F*px*py - 4.0e-2F*px*pz + 2.0e-1F*px)*u[t2][ii_rec_5 + 2][ii_rec_1 + 2][ii_rec_2 + 2];\n",
      "      }\n",
      "      if (ii_rec_1 >= y_m - 1 && ii_rec_3 >= z_m - 1 && ii_rec_5 >= x_m - 1 && ii_rec_1 <= y_M + 1 && ii_rec_3 <= z_M + 1 && ii_rec_5 <= x_M + 1)\n",
      "      {\n",
      "        sum += (-8.0e-3F*px*py*pz + 4.0e-2F*px*pz)*u[t2][ii_rec_5 + 2][ii_rec_1 + 2][ii_rec_3 + 2];\n",
      "      }\n",
      "      if (ii_rec_2 >= z_m - 1 && ii_rec_4 >= y_m - 1 && ii_rec_5 >= x_m - 1 && ii_rec_2 <= z_M + 1 && ii_rec_4 <= y_M + 1 && ii_rec_5 <= x_M + 1)\n",
      "      {\n",
      "        sum += (-8.0e-3F*px*py*pz + 4.0e-2F*px*py)*u[t2][ii_rec_5 + 2][ii_rec_4 + 2][ii_rec_2 + 2];\n",
      "      }\n",
      "      if (ii_rec_3 >= z_m - 1 && ii_rec_4 >= y_m - 1 && ii_rec_5 >= x_m - 1 && ii_rec_3 <= z_M + 1 && ii_rec_4 <= y_M + 1 && ii_rec_5 <= x_M + 1)\n",
      "      {\n",
      "        sum += 8.0e-3F*px*py*pz*u[t2][ii_rec_5 + 2][ii_rec_4 + 2][ii_rec_3 + 2];\n",
      "      }\n",
      "      rec[time][p_rec] = sum;\n",
      "    }\n",
      "    STOP_TIMER(section2,timers)\n",
      "    /* End section2 */\n",
      "  }\n",
      "\n",
      "  return 0;\n",
      "}\n",
      "\n"
     ]
    }
   ],
   "source": [
    "print(op.ccode)\n",
    "# Extract the C-Code from this"
   ]
  },
  {
   "cell_type": "code",
   "execution_count": 9,
   "id": "ad161aae",
   "metadata": {},
   "outputs": [
    {
     "name": "stderr",
     "output_type": "stream",
     "text": [
      "Operator `Kernel` ran in 0.01 s\n"
     ]
    },
    {
     "data": {
      "text/plain": [
       "PerformanceSummary([(PerfKey(name='section0', rank=None),\n",
       "                     PerfEntry(time=0.0004180000000000037, gflopss=0.0, gpointss=0.0, oi=0.0, ops=0, itershapes=[])),\n",
       "                    (PerfKey(name='section1', rank=None),\n",
       "                     PerfEntry(time=2.900000000000001e-05, gflopss=0.0, gpointss=0.0, oi=0.0, ops=0, itershapes=[])),\n",
       "                    (PerfKey(name='section2', rank=None),\n",
       "                     PerfEntry(time=8.699999999999986e-05, gflopss=0.0, gpointss=0.0, oi=0.0, ops=0, itershapes=[]))])"
      ]
     },
     "execution_count": 9,
     "metadata": {},
     "output_type": "execute_result"
    }
   ],
   "source": [
    "op(time=time_range.num-1, dt=model.critical_dt)\n",
    "# print(time_range.num)\n",
    "# print(model.critical_dt)\n",
    "# print(model.__dict__)"
   ]
  },
  {
   "cell_type": "code",
   "execution_count": 10,
   "id": "14df5b03",
   "metadata": {},
   "outputs": [
    {
     "name": "stdout",
     "output_type": "stream",
     "text": [
      "(401, 5)\n"
     ]
    }
   ],
   "source": [
    "print(rec.data.shape)"
   ]
  },
  {
   "cell_type": "code",
   "execution_count": 11,
   "id": "0dde80cb",
   "metadata": {},
   "outputs": [
    {
     "name": "stdout",
     "output_type": "stream",
     "text": [
      "[[ 0.          0.          0.          0.          0.        ]\n",
      " [ 0.          0.          0.          0.          0.        ]\n",
      " [ 0.          0.          0.          0.          0.        ]\n",
      " ...\n",
      " [-0.00544186 -0.00955414 -0.01127183 -0.00955413 -0.00544189]\n",
      " [-0.00339829 -0.00643984 -0.00718908 -0.00643988 -0.00339837]\n",
      " [-0.00108726 -0.00180267 -0.00201614 -0.00180274 -0.00108727]]\n"
     ]
    }
   ],
   "source": [
    "print(rec.data)"
   ]
  },
  {
   "cell_type": "code",
   "execution_count": 12,
   "id": "b4e4a00c",
   "metadata": {},
   "outputs": [],
   "source": [
    "import matplotlib.pyplot as plt\n",
    "%matplotlib inline"
   ]
  },
  {
   "cell_type": "code",
   "execution_count": 13,
   "id": "767de232",
   "metadata": {},
   "outputs": [
    {
     "data": {
      "text/plain": [
       "[<matplotlib.lines.Line2D at 0x7f7180c77390>]"
      ]
     },
     "execution_count": 13,
     "metadata": {},
     "output_type": "execute_result"
    },
    {
     "data": {
      "image/png": "[encoded data removed]",
      "text/plain": [
       "<Figure size 432x288 with 1 Axes>"
      ]
     },
     "metadata": {
      "needs_background": "light"
     },
     "output_type": "display_data"
    }
   ],
   "source": [
    "plt.plot(rec.data[:, 0])"
   ]
  },
  {
   "cell_type": "code",
   "execution_count": 14,
   "id": "74ff201f",
   "metadata": {},
   "outputs": [
    {
     "data": {
      "text/plain": [
       "[<matplotlib.lines.Line2D at 0x7f7180d5d588>]"
      ]
     },
     "execution_count": 14,
     "metadata": {},
     "output_type": "execute_result"
    },
    {
     "data": {
      "image/png": "[encoded data removed]",
      "text/plain": [
       "<Figure size 432x288 with 1 Axes>"
      ]
     },
     "metadata": {
      "needs_background": "light"
     },
     "output_type": "display_data"
    }
   ],
   "source": [
    "plt.plot(rec.data[:, 4])"
   ]
  },
  {
   "cell_type": "code",
   "execution_count": 15,
   "id": "2f2a77b7",
   "metadata": {},
   "outputs": [
    {
     "data": {
      "text/plain": [
       "[<matplotlib.lines.Line2D at 0x7f7180d63c50>]"
      ]
     },
     "execution_count": 15,
     "metadata": {},
     "output_type": "execute_result"
    },
    {
     "data": {
      "image/png": "[encoded data removed]",
      "text/plain": [
       "<Figure size 432x288 with 1 Axes>"
      ]
     },
     "metadata": {
      "needs_background": "light"
     },
     "output_type": "display_data"
    }
   ],
   "source": [
    "plt.plot(rec.data[:, 1])"
   ]
  }
 ],
 "metadata": {
  "kernelspec": {
   "display_name": "Python 3",
   "language": "python",
   "name": "python3"
  },
  "language_info": {
   "codemirror_mode": {
    "name": "ipython",
    "version": 3
   },
   "file_extension": ".py",
   "mimetype": "text/x-python",
   "name": "python",
   "nbconvert_exporter": "python",
   "pygments_lexer": "ipython3",
   "version": "3.6.9"
  }
 },
 "nbformat": 4,
 "nbformat_minor": 5
}
