{
 "cells": [
  {
   "cell_type": "markdown",
   "id": "f03a3bd0",
   "metadata": {},
   "source": [
    "# Acoustic Wave Equation in an isotropic medium with uniform density\n",
    "\n",
    "$$\\frac{1}{c^2} \\frac{\\partial^2 p}{\\partial t^2} + \\nabla . \\nabla p = s$$"
   ]
  },
  {
   "cell_type": "code",
   "execution_count": 26,
   "id": "4f90d4a6",
   "metadata": {},
   "outputs": [],
   "source": [
    "import numpy as np\n",
    "%matplotlib inline\n",
    "\n",
    "from devito import Grid, Function, TimeFunction, SparseTimeFunction, solve, Eq, Operator\n",
    "from examples.seismic import Model, plot_velocity, TimeAxis, RickerSource, Receiver"
   ]
  },
  {
   "cell_type": "code",
   "execution_count": 29,
   "id": "94f39864",
   "metadata": {},
   "outputs": [
    {
     "name": "stderr",
     "output_type": "stream",
     "text": [
      "Operator `initdamp` ran in 0.01 s\n",
      "Operator `pad_vp` ran in 0.01 s\n"
     ]
    }
   ],
   "source": [
    "dim = 3\n",
    "shape = (10, 10, 10)\n",
    "extent = (10, 10, 10)\n",
    "origin = (0, 0, 0)\n",
    "grid = Grid(shape=shape, extent=extent, origin=origin)\n",
    "\n",
    "so = 2 # Space order\n",
    "to = 2 # Time order\n",
    "\n",
    "# Create an initial velocity profile\n",
    "v_initial = np.zeros(shape)\n",
    "v_initial[:, :, 0] = 1.0\n",
    "\n",
    "# Set up the model based on our grid and initial velocity\n",
    "model = Model(origin, extent, shape, so, v_initial)\n",
    "dt = model.critical_dt"
   ]
  },
  {
   "cell_type": "code",
   "execution_count": 31,
   "id": "6b1f8f80",
   "metadata": {},
   "outputs": [
    {
     "data": {
      "text/latex": [
       "$\\displaystyle - \\frac{\\partial^{2}}{\\partial x^{2}} u{\\left(t,x,y,z \\right)} - \\frac{\\partial^{2}}{\\partial y^{2}} u{\\left(t,x,y,z \\right)} - \\frac{\\partial^{2}}{\\partial z^{2}} u{\\left(t,x,y,z \\right)} + \\frac{\\frac{\\partial^{2}}{\\partial t^{2}} u{\\left(t,x,y,z \\right)}}{\\operatorname{vp}^{2}{\\left(x,y,z \\right)}}$"
      ],
      "text/plain": [
       "-Derivative(u(t, x, y, z), (x, 2)) - Derivative(u(t, x, y, z), (y, 2)) - Derivative(u(t, x, y, z), (z, 2)) + Derivative(u(t, x, y, z), (t, 2))/vp(x, y, z)**2"
      ]
     },
     "execution_count": 31,
     "metadata": {},
     "output_type": "execute_result"
    }
   ],
   "source": [
    "# Set up time-scale\n",
    "t0 = 0\n",
    "tn = 1000\n",
    "time_range = TimeAxis(start=t0, stop=tn, step=dt)\n",
    "\n",
    "# Now set up a source and receivers\n",
    "# We will set up a source at the origin (0, 0, 0), and receivers along the line parametrized by (t, 1, 1)n\n",
    "n_src = 1\n",
    "n_recv = 5\n",
    "src_coords = np.zeros((n_src, dim))\n",
    "recv_coords = np.zeros((n_recv, dim))\n",
    "for i in range(n_recv):\n",
    "    recv_coords[i] = (i / (n_recv - 1), 1, 1)\n",
    "\n",
    "    \n",
    "f0 = 0.010  # Source peak frequency is 10Hz (0.010 kHz)\n",
    "src = RickerSource(name='src', grid=model.grid, f0=f0,\n",
    "                   npoint=1, time_range=time_range)\n",
    "\n",
    "# First, position source centrally in all dimensions, then set depth\n",
    "src.coordinates.data[:, :] = src_coords\n",
    "\n",
    "rec = Receiver(name='rec', grid=model.grid, npoint=n_recv, time_range=time_range)\n",
    "rec.coordinates.data[:, :] = recv_coords\n",
    "\n",
    "m = Function(name='m', grid=model.grid, space_order=so)\n",
    "u = TimeFunction(name='u', grid=model.grid, space_order=so, time_order=to)\n",
    "\n",
    "pde = model.m * u.dt2 - u.laplace\n",
    "\n",
    "pde"
   ]
  },
  {
   "cell_type": "code",
   "execution_count": null,
   "id": "78c78297",
   "metadata": {},
   "outputs": [],
   "source": []
  }
 ],
 "metadata": {
  "kernelspec": {
   "display_name": "Python 3",
   "language": "python",
   "name": "python3"
  },
  "language_info": {
   "codemirror_mode": {
    "name": "ipython",
    "version": 3
   },
   "file_extension": ".py",
   "mimetype": "text/x-python",
   "name": "python",
   "nbconvert_exporter": "python",
   "pygments_lexer": "ipython3",
   "version": "3.6.9"
  }
 },
 "nbformat": 4,
 "nbformat_minor": 5
}
